{
 "cells": [
  {
   "cell_type": "code",
   "execution_count": 4,
   "id": "adf3a637-7ce6-4f46-8955-60185c4ddb72",
   "metadata": {},
   "outputs": [
    {
     "name": "stdout",
     "output_type": "stream",
     "text": [
      "Processing /home/akayr/Documents/DataScience/Quantics_data_science_Py/arar\n",
      "\u001b[33m  DEPRECATION: A future pip version will change local packages to be built in-place without first copying to a temporary directory. We recommend you use --use-feature=in-tree-build to test your packages with this new behavior before it becomes the default.\n",
      "   pip 21.3 will remove support for this functionality. You can find discussion regarding this at https://github.com/pypa/pip/issues/7555.\u001b[0m\n",
      "Requirement already satisfied: numpy in /home/akayr/miniconda3/lib/python3.9/site-packages (from arar==0.1.0) (1.21.0)\n",
      "Requirement already satisfied: pandas in /home/akayr/miniconda3/lib/python3.9/site-packages (from arar==0.1.0) (1.3.5)\n",
      "Requirement already satisfied: matplotlib in /home/akayr/miniconda3/lib/python3.9/site-packages (from arar==0.1.0) (3.5.1)\n",
      "Requirement already satisfied: pyparsing>=2.2.1 in /home/akayr/miniconda3/lib/python3.9/site-packages (from matplotlib->arar==0.1.0) (3.0.7)\n",
      "Requirement already satisfied: cycler>=0.10 in /home/akayr/miniconda3/lib/python3.9/site-packages (from matplotlib->arar==0.1.0) (0.11.0)\n",
      "Requirement already satisfied: pillow>=6.2.0 in /home/akayr/miniconda3/lib/python3.9/site-packages (from matplotlib->arar==0.1.0) (9.0.1)\n",
      "Requirement already satisfied: kiwisolver>=1.0.1 in /home/akayr/miniconda3/lib/python3.9/site-packages (from matplotlib->arar==0.1.0) (1.3.2)\n",
      "Requirement already satisfied: fonttools>=4.22.0 in /home/akayr/miniconda3/lib/python3.9/site-packages (from matplotlib->arar==0.1.0) (4.29.1)\n",
      "Requirement already satisfied: packaging>=20.0 in /home/akayr/miniconda3/lib/python3.9/site-packages (from matplotlib->arar==0.1.0) (21.3)\n",
      "Requirement already satisfied: python-dateutil>=2.7 in /home/akayr/miniconda3/lib/python3.9/site-packages (from matplotlib->arar==0.1.0) (2.8.2)\n",
      "Requirement already satisfied: six>=1.5 in /home/akayr/miniconda3/lib/python3.9/site-packages (from python-dateutil>=2.7->matplotlib->arar==0.1.0) (1.12.0)\n",
      "Requirement already satisfied: pytz>=2017.3 in /home/akayr/miniconda3/lib/python3.9/site-packages (from pandas->arar==0.1.0) (2021.3)\n",
      "Building wheels for collected packages: arar\n",
      "  Building wheel for arar (setup.py) ... \u001b[?25ldone\n",
      "\u001b[?25h  Created wheel for arar: filename=arar-0.1.0-py3-none-any.whl size=5592 sha256=eee9553d2493c57f85d6d282e86dcb62617f11ee75b8f998e80b7978302855d0\n",
      "  Stored in directory: /tmp/pip-ephem-wheel-cache-hybhswsx/wheels/ed/4e/2a/67bfd4f6219b03ec83665bce7c29d1839e78977d70011cdbac\n",
      "Successfully built arar\n",
      "Installing collected packages: arar\n",
      "  Attempting uninstall: arar\n",
      "    Found existing installation: arar 0.1.0\n",
      "    Uninstalling arar-0.1.0:\n",
      "      Successfully uninstalled arar-0.1.0\n",
      "Successfully installed arar-0.1.0\n"
     ]
    }
   ],
   "source": [
    "!pip install /home/akayr/Documents/DataScience/Quantics_data_science_Py/arar"
   ]
  },
  {
   "cell_type": "code",
   "execution_count": 1,
   "id": "9d49679d-c757-4713-a178-8de9b77bf516",
   "metadata": {},
   "outputs": [],
   "source": [
    "from arar.arar import ARAR\n",
    "import pandas as pd\n",
    "from plotnine import ggplot, aes, geom_line"
   ]
  },
  {
   "cell_type": "code",
   "execution_count": 2,
   "id": "40815f27-4858-47b7-af00-29442e8d0b75",
   "metadata": {},
   "outputs": [
    {
     "name": "stderr",
     "output_type": "stream",
     "text": [
      "/tmp/ipykernel_53984/2104472580.py:3: SettingWithCopyWarning: \n",
      "A value is trying to be set on a copy of a slice from a DataFrame.\n",
      "Try using .loc[row_indexer,col_indexer] = value instead\n",
      "\n",
      "See the caveats in the documentation: https://pandas.pydata.org/pandas-docs/stable/user_guide/indexing.html#returning-a-view-versus-a-copy\n"
     ]
    }
   ],
   "source": [
    "df = pd.read_csv(\"https://raw.githubusercontent.com/Akai01/example-time-series-datasets/main/Data/retail.csv\", sep= \",\")\n",
    "df_sub = df[['date', 'series_38']]\n",
    "df_sub['date'] = pd.to_datetime(df_sub['date'])\n",
    "df_sub.columns = [\"ds\", \"y\"]\n",
    "train = df_sub[:-12]\n",
    "test = df_sub[-12:]"
   ]
  },
  {
   "cell_type": "code",
   "execution_count": 3,
   "id": "f5754cd9-dcfb-418b-b428-74dbbf8406ba",
   "metadata": {},
   "outputs": [
    {
     "data": {
      "text/html": [
       "<div>\n",
       "<style scoped>\n",
       "    .dataframe tbody tr th:only-of-type {\n",
       "        vertical-align: middle;\n",
       "    }\n",
       "\n",
       "    .dataframe tbody tr th {\n",
       "        vertical-align: top;\n",
       "    }\n",
       "\n",
       "    .dataframe thead th {\n",
       "        text-align: right;\n",
       "    }\n",
       "</style>\n",
       "<table border=\"1\" class=\"dataframe\">\n",
       "  <thead>\n",
       "    <tr style=\"text-align: right;\">\n",
       "      <th></th>\n",
       "      <th>ds</th>\n",
       "      <th>y</th>\n",
       "    </tr>\n",
       "  </thead>\n",
       "  <tbody>\n",
       "    <tr>\n",
       "      <th>0</th>\n",
       "      <td>1982-04-01</td>\n",
       "      <td>408.7</td>\n",
       "    </tr>\n",
       "    <tr>\n",
       "      <th>1</th>\n",
       "      <td>1982-05-01</td>\n",
       "      <td>404.9</td>\n",
       "    </tr>\n",
       "    <tr>\n",
       "      <th>2</th>\n",
       "      <td>1982-06-01</td>\n",
       "      <td>401.0</td>\n",
       "    </tr>\n",
       "    <tr>\n",
       "      <th>3</th>\n",
       "      <td>1982-07-01</td>\n",
       "      <td>414.4</td>\n",
       "    </tr>\n",
       "    <tr>\n",
       "      <th>4</th>\n",
       "      <td>1982-08-01</td>\n",
       "      <td>403.8</td>\n",
       "    </tr>\n",
       "    <tr>\n",
       "      <th>...</th>\n",
       "      <td>...</td>\n",
       "      <td>...</td>\n",
       "    </tr>\n",
       "    <tr>\n",
       "      <th>328</th>\n",
       "      <td>2009-08-01</td>\n",
       "      <td>2359.5</td>\n",
       "    </tr>\n",
       "    <tr>\n",
       "      <th>329</th>\n",
       "      <td>2009-09-01</td>\n",
       "      <td>2319.0</td>\n",
       "    </tr>\n",
       "    <tr>\n",
       "      <th>330</th>\n",
       "      <td>2009-10-01</td>\n",
       "      <td>2497.8</td>\n",
       "    </tr>\n",
       "    <tr>\n",
       "      <th>331</th>\n",
       "      <td>2009-11-01</td>\n",
       "      <td>2623.0</td>\n",
       "    </tr>\n",
       "    <tr>\n",
       "      <th>332</th>\n",
       "      <td>2009-12-01</td>\n",
       "      <td>2932.9</td>\n",
       "    </tr>\n",
       "  </tbody>\n",
       "</table>\n",
       "<p>333 rows × 2 columns</p>\n",
       "</div>"
      ],
      "text/plain": [
       "            ds       y\n",
       "0   1982-04-01   408.7\n",
       "1   1982-05-01   404.9\n",
       "2   1982-06-01   401.0\n",
       "3   1982-07-01   414.4\n",
       "4   1982-08-01   403.8\n",
       "..         ...     ...\n",
       "328 2009-08-01  2359.5\n",
       "329 2009-09-01  2319.0\n",
       "330 2009-10-01  2497.8\n",
       "331 2009-11-01  2623.0\n",
       "332 2009-12-01  2932.9\n",
       "\n",
       "[333 rows x 2 columns]"
      ]
     },
     "execution_count": 3,
     "metadata": {},
     "output_type": "execute_result"
    }
   ],
   "source": [
    "df_sub"
   ]
  },
  {
   "cell_type": "code",
   "execution_count": 4,
   "id": "22c97a62-8555-4292-b7b4-76ada2b3f468",
   "metadata": {},
   "outputs": [],
   "source": [
    "model = ARAR(df=train, h=3, freq=\"M\")"
   ]
  },
  {
   "cell_type": "code",
   "execution_count": 5,
   "id": "af368b4b-3c59-4398-8084-7d548c147a83",
   "metadata": {},
   "outputs": [],
   "source": [
    "fc = model.forecast()"
   ]
  },
  {
   "cell_type": "code",
   "execution_count": 6,
   "id": "e08bb712-0582-4baf-ad84-8d87897c87a3",
   "metadata": {},
   "outputs": [
    {
     "data": {
      "text/html": [
       "<div>\n",
       "<style scoped>\n",
       "    .dataframe tbody tr th:only-of-type {\n",
       "        vertical-align: middle;\n",
       "    }\n",
       "\n",
       "    .dataframe tbody tr th {\n",
       "        vertical-align: top;\n",
       "    }\n",
       "\n",
       "    .dataframe thead th {\n",
       "        text-align: right;\n",
       "    }\n",
       "</style>\n",
       "<table border=\"1\" class=\"dataframe\">\n",
       "  <thead>\n",
       "    <tr style=\"text-align: right;\">\n",
       "      <th></th>\n",
       "      <th>mean</th>\n",
       "      <th>upper_95</th>\n",
       "      <th>upper_80</th>\n",
       "      <th>lower_95</th>\n",
       "      <th>lower_80</th>\n",
       "    </tr>\n",
       "  </thead>\n",
       "  <tbody>\n",
       "    <tr>\n",
       "      <th>2009-01-31</th>\n",
       "      <td>2345.129370</td>\n",
       "      <td>2408.249503</td>\n",
       "      <td>2386.350681</td>\n",
       "      <td>2282.009237</td>\n",
       "      <td>2282.009237</td>\n",
       "    </tr>\n",
       "    <tr>\n",
       "      <th>2009-02-28</th>\n",
       "      <td>2223.087719</td>\n",
       "      <td>2286.207852</td>\n",
       "      <td>2264.309030</td>\n",
       "      <td>2159.967586</td>\n",
       "      <td>2159.967586</td>\n",
       "    </tr>\n",
       "    <tr>\n",
       "      <th>2009-03-31</th>\n",
       "      <td>2406.857910</td>\n",
       "      <td>2469.978043</td>\n",
       "      <td>2448.079221</td>\n",
       "      <td>2343.737777</td>\n",
       "      <td>2343.737777</td>\n",
       "    </tr>\n",
       "  </tbody>\n",
       "</table>\n",
       "</div>"
      ],
      "text/plain": [
       "                   mean     upper_95     upper_80     lower_95     lower_80\n",
       "2009-01-31  2345.129370  2408.249503  2386.350681  2282.009237  2282.009237\n",
       "2009-02-28  2223.087719  2286.207852  2264.309030  2159.967586  2159.967586\n",
       "2009-03-31  2406.857910  2469.978043  2448.079221  2343.737777  2343.737777"
      ]
     },
     "execution_count": 6,
     "metadata": {},
     "output_type": "execute_result"
    }
   ],
   "source": [
    "fc"
   ]
  },
  {
   "cell_type": "code",
   "execution_count": 11,
   "id": "25449190-fed8-49cb-b62a-0f53936d9328",
   "metadata": {},
   "outputs": [
    {
     "data": {
      "text/plain": [
       "{'Mean error': -4.734939037693228,\n",
       " 'Root mean squared error': 56.06673352374631,\n",
       " 'Mean absolute error': 47.39366203570061,\n",
       " 'Mean percentage error': -0.21852132756069662,\n",
       " 'Mean absolute percentage error': 1.9638727653204866}"
      ]
     },
     "execution_count": 11,
     "metadata": {},
     "output_type": "execute_result"
    }
   ],
   "source": [
    "model.accuracy(test_set=test)"
   ]
  },
  {
   "cell_type": "code",
   "execution_count": 12,
   "id": "cf52c0ea-18dd-488d-8bae-7f8dd800ff9c",
   "metadata": {},
   "outputs": [],
   "source": [
    "from plotnine import ggplot, aes, geom_line"
   ]
  },
  {
   "cell_type": "code",
   "execution_count": 13,
   "id": "6d483b25-a7b3-4db5-8cb4-83c77eb0e7f9",
   "metadata": {},
   "outputs": [
    {
     "data": {
      "text/html": [
       "<div>\n",
       "<style scoped>\n",
       "    .dataframe tbody tr th:only-of-type {\n",
       "        vertical-align: middle;\n",
       "    }\n",
       "\n",
       "    .dataframe tbody tr th {\n",
       "        vertical-align: top;\n",
       "    }\n",
       "\n",
       "    .dataframe thead th {\n",
       "        text-align: right;\n",
       "    }\n",
       "</style>\n",
       "<table border=\"1\" class=\"dataframe\">\n",
       "  <thead>\n",
       "    <tr style=\"text-align: right;\">\n",
       "      <th></th>\n",
       "      <th>ds</th>\n",
       "      <th>y</th>\n",
       "    </tr>\n",
       "  </thead>\n",
       "  <tbody>\n",
       "    <tr>\n",
       "      <th>0</th>\n",
       "      <td>1982-04-01</td>\n",
       "      <td>408.7</td>\n",
       "    </tr>\n",
       "    <tr>\n",
       "      <th>1</th>\n",
       "      <td>1982-05-01</td>\n",
       "      <td>404.9</td>\n",
       "    </tr>\n",
       "    <tr>\n",
       "      <th>2</th>\n",
       "      <td>1982-06-01</td>\n",
       "      <td>401.0</td>\n",
       "    </tr>\n",
       "    <tr>\n",
       "      <th>3</th>\n",
       "      <td>1982-07-01</td>\n",
       "      <td>414.4</td>\n",
       "    </tr>\n",
       "    <tr>\n",
       "      <th>4</th>\n",
       "      <td>1982-08-01</td>\n",
       "      <td>403.8</td>\n",
       "    </tr>\n",
       "    <tr>\n",
       "      <th>...</th>\n",
       "      <td>...</td>\n",
       "      <td>...</td>\n",
       "    </tr>\n",
       "    <tr>\n",
       "      <th>316</th>\n",
       "      <td>2008-08-01</td>\n",
       "      <td>2249.1</td>\n",
       "    </tr>\n",
       "    <tr>\n",
       "      <th>317</th>\n",
       "      <td>2008-09-01</td>\n",
       "      <td>2152.6</td>\n",
       "    </tr>\n",
       "    <tr>\n",
       "      <th>318</th>\n",
       "      <td>2008-10-01</td>\n",
       "      <td>2340.5</td>\n",
       "    </tr>\n",
       "    <tr>\n",
       "      <th>319</th>\n",
       "      <td>2008-11-01</td>\n",
       "      <td>2376.9</td>\n",
       "    </tr>\n",
       "    <tr>\n",
       "      <th>320</th>\n",
       "      <td>2008-12-01</td>\n",
       "      <td>2752.6</td>\n",
       "    </tr>\n",
       "  </tbody>\n",
       "</table>\n",
       "<p>321 rows × 2 columns</p>\n",
       "</div>"
      ],
      "text/plain": [
       "            ds       y\n",
       "0   1982-04-01   408.7\n",
       "1   1982-05-01   404.9\n",
       "2   1982-06-01   401.0\n",
       "3   1982-07-01   414.4\n",
       "4   1982-08-01   403.8\n",
       "..         ...     ...\n",
       "316 2008-08-01  2249.1\n",
       "317 2008-09-01  2152.6\n",
       "318 2008-10-01  2340.5\n",
       "319 2008-11-01  2376.9\n",
       "320 2008-12-01  2752.6\n",
       "\n",
       "[321 rows x 2 columns]"
      ]
     },
     "execution_count": 13,
     "metadata": {},
     "output_type": "execute_result"
    }
   ],
   "source": [
    "train"
   ]
  },
  {
   "cell_type": "code",
   "execution_count": 26,
   "id": "f2c7808d-4c54-45f1-8507-f1d0dbcb288e",
   "metadata": {},
   "outputs": [
    {
     "ename": "ValueError",
     "evalue": "Invalid RGBA argument: 'test'",
     "output_type": "error",
     "traceback": [
      "\u001b[0;31m---------------------------------------------------------------------------\u001b[0m",
      "\u001b[0;31mValueError\u001b[0m                                Traceback (most recent call last)",
      "File \u001b[0;32m~/miniconda3/lib/python3.9/site-packages/IPython/core/formatters.py:707\u001b[0m, in \u001b[0;36mPlainTextFormatter.__call__\u001b[0;34m(self, obj)\u001b[0m\n\u001b[1;32m    700\u001b[0m stream \u001b[38;5;241m=\u001b[39m StringIO()\n\u001b[1;32m    701\u001b[0m printer \u001b[38;5;241m=\u001b[39m pretty\u001b[38;5;241m.\u001b[39mRepresentationPrinter(stream, \u001b[38;5;28mself\u001b[39m\u001b[38;5;241m.\u001b[39mverbose,\n\u001b[1;32m    702\u001b[0m     \u001b[38;5;28mself\u001b[39m\u001b[38;5;241m.\u001b[39mmax_width, \u001b[38;5;28mself\u001b[39m\u001b[38;5;241m.\u001b[39mnewline,\n\u001b[1;32m    703\u001b[0m     max_seq_length\u001b[38;5;241m=\u001b[39m\u001b[38;5;28mself\u001b[39m\u001b[38;5;241m.\u001b[39mmax_seq_length,\n\u001b[1;32m    704\u001b[0m     singleton_pprinters\u001b[38;5;241m=\u001b[39m\u001b[38;5;28mself\u001b[39m\u001b[38;5;241m.\u001b[39msingleton_printers,\n\u001b[1;32m    705\u001b[0m     type_pprinters\u001b[38;5;241m=\u001b[39m\u001b[38;5;28mself\u001b[39m\u001b[38;5;241m.\u001b[39mtype_printers,\n\u001b[1;32m    706\u001b[0m     deferred_pprinters\u001b[38;5;241m=\u001b[39m\u001b[38;5;28mself\u001b[39m\u001b[38;5;241m.\u001b[39mdeferred_printers)\n\u001b[0;32m--> 707\u001b[0m \u001b[43mprinter\u001b[49m\u001b[38;5;241;43m.\u001b[39;49m\u001b[43mpretty\u001b[49m\u001b[43m(\u001b[49m\u001b[43mobj\u001b[49m\u001b[43m)\u001b[49m\n\u001b[1;32m    708\u001b[0m printer\u001b[38;5;241m.\u001b[39mflush()\n\u001b[1;32m    709\u001b[0m \u001b[38;5;28;01mreturn\u001b[39;00m stream\u001b[38;5;241m.\u001b[39mgetvalue()\n",
      "File \u001b[0;32m~/miniconda3/lib/python3.9/site-packages/IPython/lib/pretty.py:410\u001b[0m, in \u001b[0;36mRepresentationPrinter.pretty\u001b[0;34m(self, obj)\u001b[0m\n\u001b[1;32m    407\u001b[0m                         \u001b[38;5;28;01mreturn\u001b[39;00m meth(obj, \u001b[38;5;28mself\u001b[39m, cycle)\n\u001b[1;32m    408\u001b[0m                 \u001b[38;5;28;01mif\u001b[39;00m \u001b[38;5;28mcls\u001b[39m \u001b[38;5;129;01mis\u001b[39;00m \u001b[38;5;129;01mnot\u001b[39;00m \u001b[38;5;28mobject\u001b[39m \\\n\u001b[1;32m    409\u001b[0m                         \u001b[38;5;129;01mand\u001b[39;00m callable(\u001b[38;5;28mcls\u001b[39m\u001b[38;5;241m.\u001b[39m\u001b[38;5;18m__dict__\u001b[39m\u001b[38;5;241m.\u001b[39mget(\u001b[38;5;124m'\u001b[39m\u001b[38;5;124m__repr__\u001b[39m\u001b[38;5;124m'\u001b[39m)):\n\u001b[0;32m--> 410\u001b[0m                     \u001b[38;5;28;01mreturn\u001b[39;00m \u001b[43m_repr_pprint\u001b[49m\u001b[43m(\u001b[49m\u001b[43mobj\u001b[49m\u001b[43m,\u001b[49m\u001b[43m \u001b[49m\u001b[38;5;28;43mself\u001b[39;49m\u001b[43m,\u001b[49m\u001b[43m \u001b[49m\u001b[43mcycle\u001b[49m\u001b[43m)\u001b[49m\n\u001b[1;32m    412\u001b[0m     \u001b[38;5;28;01mreturn\u001b[39;00m _default_pprint(obj, \u001b[38;5;28mself\u001b[39m, cycle)\n\u001b[1;32m    413\u001b[0m \u001b[38;5;28;01mfinally\u001b[39;00m:\n",
      "File \u001b[0;32m~/miniconda3/lib/python3.9/site-packages/IPython/lib/pretty.py:778\u001b[0m, in \u001b[0;36m_repr_pprint\u001b[0;34m(obj, p, cycle)\u001b[0m\n\u001b[1;32m    776\u001b[0m \u001b[38;5;124;03m\"\"\"A pprint that just redirects to the normal repr function.\"\"\"\u001b[39;00m\n\u001b[1;32m    777\u001b[0m \u001b[38;5;66;03m# Find newlines and replace them with p.break_()\u001b[39;00m\n\u001b[0;32m--> 778\u001b[0m output \u001b[38;5;241m=\u001b[39m \u001b[38;5;28;43mrepr\u001b[39;49m\u001b[43m(\u001b[49m\u001b[43mobj\u001b[49m\u001b[43m)\u001b[49m\n\u001b[1;32m    779\u001b[0m lines \u001b[38;5;241m=\u001b[39m output\u001b[38;5;241m.\u001b[39msplitlines()\n\u001b[1;32m    780\u001b[0m \u001b[38;5;28;01mwith\u001b[39;00m p\u001b[38;5;241m.\u001b[39mgroup():\n",
      "File \u001b[0;32m~/miniconda3/lib/python3.9/site-packages/plotnine/ggplot.py:97\u001b[0m, in \u001b[0;36mggplot.__repr__\u001b[0;34m(self)\u001b[0m\n\u001b[1;32m     93\u001b[0m \u001b[38;5;28;01mdef\u001b[39;00m \u001b[38;5;21m__repr__\u001b[39m(\u001b[38;5;28mself\u001b[39m):\n\u001b[1;32m     94\u001b[0m     \u001b[38;5;124;03m\"\"\"\u001b[39;00m\n\u001b[1;32m     95\u001b[0m \u001b[38;5;124;03m    Print/show the plot\u001b[39;00m\n\u001b[1;32m     96\u001b[0m \u001b[38;5;124;03m    \"\"\"\u001b[39;00m\n\u001b[0;32m---> 97\u001b[0m     \u001b[38;5;28;43mself\u001b[39;49m\u001b[38;5;241;43m.\u001b[39;49m\u001b[38;5;21;43m__str__\u001b[39;49m\u001b[43m(\u001b[49m\u001b[43m)\u001b[49m\n\u001b[1;32m     98\u001b[0m     \u001b[38;5;28;01mreturn\u001b[39;00m \u001b[38;5;124m'\u001b[39m\u001b[38;5;124m<ggplot: (\u001b[39m\u001b[38;5;132;01m%d\u001b[39;00m\u001b[38;5;124m)>\u001b[39m\u001b[38;5;124m'\u001b[39m \u001b[38;5;241m%\u001b[39m \u001b[38;5;28mself\u001b[39m\u001b[38;5;241m.\u001b[39m\u001b[38;5;21m__hash__\u001b[39m()\n",
      "File \u001b[0;32m~/miniconda3/lib/python3.9/site-packages/plotnine/ggplot.py:88\u001b[0m, in \u001b[0;36mggplot.__str__\u001b[0;34m(self)\u001b[0m\n\u001b[1;32m     84\u001b[0m \u001b[38;5;28;01mdef\u001b[39;00m \u001b[38;5;21m__str__\u001b[39m(\u001b[38;5;28mself\u001b[39m):\n\u001b[1;32m     85\u001b[0m     \u001b[38;5;124;03m\"\"\"\u001b[39;00m\n\u001b[1;32m     86\u001b[0m \u001b[38;5;124;03m    Print/show the plot\u001b[39;00m\n\u001b[1;32m     87\u001b[0m \u001b[38;5;124;03m    \"\"\"\u001b[39;00m\n\u001b[0;32m---> 88\u001b[0m     \u001b[38;5;28;43mself\u001b[39;49m\u001b[38;5;241;43m.\u001b[39;49m\u001b[43mdraw\u001b[49m\u001b[43m(\u001b[49m\u001b[43mshow\u001b[49m\u001b[38;5;241;43m=\u001b[39;49m\u001b[38;5;28;43;01mTrue\u001b[39;49;00m\u001b[43m)\u001b[49m\n\u001b[1;32m     90\u001b[0m     \u001b[38;5;66;03m# Return and empty string so that print(p) is \"pretty\"\u001b[39;00m\n\u001b[1;32m     91\u001b[0m     \u001b[38;5;28;01mreturn\u001b[39;00m \u001b[38;5;124m'\u001b[39m\u001b[38;5;124m'\u001b[39m\n",
      "File \u001b[0;32m~/miniconda3/lib/python3.9/site-packages/plotnine/ggplot.py:214\u001b[0m, in \u001b[0;36mggplot.draw\u001b[0;34m(self, return_ggplot, show)\u001b[0m\n\u001b[1;32m    211\u001b[0m \u001b[38;5;28mself\u001b[39m\u001b[38;5;241m.\u001b[39m_resize_panels()\n\u001b[1;32m    213\u001b[0m \u001b[38;5;66;03m# Drawing\u001b[39;00m\n\u001b[0;32m--> 214\u001b[0m \u001b[38;5;28;43mself\u001b[39;49m\u001b[38;5;241;43m.\u001b[39;49m\u001b[43m_draw_layers\u001b[49m\u001b[43m(\u001b[49m\u001b[43m)\u001b[49m\n\u001b[1;32m    215\u001b[0m \u001b[38;5;28mself\u001b[39m\u001b[38;5;241m.\u001b[39m_draw_labels()\n\u001b[1;32m    216\u001b[0m \u001b[38;5;28mself\u001b[39m\u001b[38;5;241m.\u001b[39m_draw_breaks_and_labels()\n",
      "File \u001b[0;32m~/miniconda3/lib/python3.9/site-packages/plotnine/ggplot.py:391\u001b[0m, in \u001b[0;36mggplot._draw_layers\u001b[0;34m(self)\u001b[0m\n\u001b[1;32m    387\u001b[0m \u001b[38;5;124;03m\"\"\"\u001b[39;00m\n\u001b[1;32m    388\u001b[0m \u001b[38;5;124;03mDraw the main plot(s) onto the axes.\u001b[39;00m\n\u001b[1;32m    389\u001b[0m \u001b[38;5;124;03m\"\"\"\u001b[39;00m\n\u001b[1;32m    390\u001b[0m \u001b[38;5;66;03m# Draw the geoms\u001b[39;00m\n\u001b[0;32m--> 391\u001b[0m \u001b[38;5;28;43mself\u001b[39;49m\u001b[38;5;241;43m.\u001b[39;49m\u001b[43mlayers\u001b[49m\u001b[38;5;241;43m.\u001b[39;49m\u001b[43mdraw\u001b[49m\u001b[43m(\u001b[49m\u001b[38;5;28;43mself\u001b[39;49m\u001b[38;5;241;43m.\u001b[39;49m\u001b[43mlayout\u001b[49m\u001b[43m,\u001b[49m\u001b[43m \u001b[49m\u001b[38;5;28;43mself\u001b[39;49m\u001b[38;5;241;43m.\u001b[39;49m\u001b[43mcoordinates\u001b[49m\u001b[43m)\u001b[49m\n",
      "File \u001b[0;32m~/miniconda3/lib/python3.9/site-packages/plotnine/layer.py:65\u001b[0m, in \u001b[0;36mLayers.draw\u001b[0;34m(self, layout, coord)\u001b[0m\n\u001b[1;32m     63\u001b[0m \u001b[38;5;28;01mfor\u001b[39;00m i, l \u001b[38;5;129;01min\u001b[39;00m \u001b[38;5;28menumerate\u001b[39m(\u001b[38;5;28mself\u001b[39m, start\u001b[38;5;241m=\u001b[39m\u001b[38;5;241m1\u001b[39m):\n\u001b[1;32m     64\u001b[0m     l\u001b[38;5;241m.\u001b[39mzorder \u001b[38;5;241m=\u001b[39m i\n\u001b[0;32m---> 65\u001b[0m     \u001b[43ml\u001b[49m\u001b[38;5;241;43m.\u001b[39;49m\u001b[43mdraw\u001b[49m\u001b[43m(\u001b[49m\u001b[43mlayout\u001b[49m\u001b[43m,\u001b[49m\u001b[43m \u001b[49m\u001b[43mcoord\u001b[49m\u001b[43m)\u001b[49m\n",
      "File \u001b[0;32m~/miniconda3/lib/python3.9/site-packages/plotnine/layer.py:404\u001b[0m, in \u001b[0;36mlayer.draw\u001b[0;34m(self, layout, coord)\u001b[0m\n\u001b[1;32m    401\u001b[0m \u001b[38;5;28mself\u001b[39m\u001b[38;5;241m.\u001b[39mdata \u001b[38;5;241m=\u001b[39m \u001b[38;5;28mself\u001b[39m\u001b[38;5;241m.\u001b[39mgeom\u001b[38;5;241m.\u001b[39mhandle_na(\u001b[38;5;28mself\u001b[39m\u001b[38;5;241m.\u001b[39mdata)\n\u001b[1;32m    402\u001b[0m \u001b[38;5;66;03m# At this point each layer must have the data\u001b[39;00m\n\u001b[1;32m    403\u001b[0m \u001b[38;5;66;03m# that is created by the plot build process\u001b[39;00m\n\u001b[0;32m--> 404\u001b[0m \u001b[38;5;28;43mself\u001b[39;49m\u001b[38;5;241;43m.\u001b[39;49m\u001b[43mgeom\u001b[49m\u001b[38;5;241;43m.\u001b[39;49m\u001b[43mdraw_layer\u001b[49m\u001b[43m(\u001b[49m\u001b[38;5;28;43mself\u001b[39;49m\u001b[38;5;241;43m.\u001b[39;49m\u001b[43mdata\u001b[49m\u001b[43m,\u001b[49m\u001b[43m \u001b[49m\u001b[43mlayout\u001b[49m\u001b[43m,\u001b[49m\u001b[43m \u001b[49m\u001b[43mcoord\u001b[49m\u001b[43m,\u001b[49m\u001b[43m \u001b[49m\u001b[38;5;241;43m*\u001b[39;49m\u001b[38;5;241;43m*\u001b[39;49m\u001b[43mparams\u001b[49m\u001b[43m)\u001b[49m\n",
      "File \u001b[0;32m~/miniconda3/lib/python3.9/site-packages/plotnine/geoms/geom.py:237\u001b[0m, in \u001b[0;36mgeom.draw_layer\u001b[0;34m(self, data, layout, coord, **params)\u001b[0m\n\u001b[1;32m    235\u001b[0m panel_params \u001b[38;5;241m=\u001b[39m layout\u001b[38;5;241m.\u001b[39mpanel_params[ploc]\n\u001b[1;32m    236\u001b[0m ax \u001b[38;5;241m=\u001b[39m layout\u001b[38;5;241m.\u001b[39maxs[ploc]\n\u001b[0;32m--> 237\u001b[0m \u001b[38;5;28;43mself\u001b[39;49m\u001b[38;5;241;43m.\u001b[39;49m\u001b[43mdraw_panel\u001b[49m\u001b[43m(\u001b[49m\u001b[43mpdata\u001b[49m\u001b[43m,\u001b[49m\u001b[43m \u001b[49m\u001b[43mpanel_params\u001b[49m\u001b[43m,\u001b[49m\u001b[43m \u001b[49m\u001b[43mcoord\u001b[49m\u001b[43m,\u001b[49m\u001b[43m \u001b[49m\u001b[43max\u001b[49m\u001b[43m,\u001b[49m\u001b[43m \u001b[49m\u001b[38;5;241;43m*\u001b[39;49m\u001b[38;5;241;43m*\u001b[39;49m\u001b[43mparams\u001b[49m\u001b[43m)\u001b[49m\n",
      "File \u001b[0;32m~/miniconda3/lib/python3.9/site-packages/plotnine/geoms/geom_path.py:111\u001b[0m, in \u001b[0;36mgeom_path.draw_panel\u001b[0;34m(self, data, panel_params, coord, ax, **params)\u001b[0m\n\u001b[1;32m    109\u001b[0m \u001b[38;5;28;01mfor\u001b[39;00m _, gdata \u001b[38;5;129;01min\u001b[39;00m data\u001b[38;5;241m.\u001b[39mgroupby(\u001b[38;5;124m'\u001b[39m\u001b[38;5;124mgroup\u001b[39m\u001b[38;5;124m'\u001b[39m):\n\u001b[1;32m    110\u001b[0m     gdata\u001b[38;5;241m.\u001b[39mreset_index(inplace\u001b[38;5;241m=\u001b[39m\u001b[38;5;28;01mTrue\u001b[39;00m, drop\u001b[38;5;241m=\u001b[39m\u001b[38;5;28;01mTrue\u001b[39;00m)\n\u001b[0;32m--> 111\u001b[0m     \u001b[38;5;28;43mself\u001b[39;49m\u001b[38;5;241;43m.\u001b[39;49m\u001b[43mdraw_group\u001b[49m\u001b[43m(\u001b[49m\u001b[43mgdata\u001b[49m\u001b[43m,\u001b[49m\u001b[43m \u001b[49m\u001b[43mpanel_params\u001b[49m\u001b[43m,\u001b[49m\u001b[43m \u001b[49m\u001b[43mcoord\u001b[49m\u001b[43m,\u001b[49m\u001b[43m \u001b[49m\u001b[43max\u001b[49m\u001b[43m,\u001b[49m\u001b[43m \u001b[49m\u001b[38;5;241;43m*\u001b[39;49m\u001b[38;5;241;43m*\u001b[39;49m\u001b[43mparams\u001b[49m\u001b[43m)\u001b[49m\n",
      "File \u001b[0;32m~/miniconda3/lib/python3.9/site-packages/plotnine/geoms/geom_path.py:122\u001b[0m, in \u001b[0;36mgeom_path.draw_group\u001b[0;34m(data, panel_params, coord, ax, **params)\u001b[0m\n\u001b[1;32m    120\u001b[0m     _draw_segments(data, ax, \u001b[38;5;241m*\u001b[39m\u001b[38;5;241m*\u001b[39mparams)\n\u001b[1;32m    121\u001b[0m \u001b[38;5;28;01melse\u001b[39;00m:\n\u001b[0;32m--> 122\u001b[0m     \u001b[43m_draw_lines\u001b[49m\u001b[43m(\u001b[49m\u001b[43mdata\u001b[49m\u001b[43m,\u001b[49m\u001b[43m \u001b[49m\u001b[43max\u001b[49m\u001b[43m,\u001b[49m\u001b[43m \u001b[49m\u001b[38;5;241;43m*\u001b[39;49m\u001b[38;5;241;43m*\u001b[39;49m\u001b[43mparams\u001b[49m\u001b[43m)\u001b[49m\n\u001b[1;32m    124\u001b[0m \u001b[38;5;28;01mif\u001b[39;00m \u001b[38;5;124m'\u001b[39m\u001b[38;5;124marrow\u001b[39m\u001b[38;5;124m'\u001b[39m \u001b[38;5;129;01min\u001b[39;00m params \u001b[38;5;129;01mand\u001b[39;00m params[\u001b[38;5;124m'\u001b[39m\u001b[38;5;124marrow\u001b[39m\u001b[38;5;124m'\u001b[39m]:\n\u001b[1;32m    125\u001b[0m     params[\u001b[38;5;124m'\u001b[39m\u001b[38;5;124marrow\u001b[39m\u001b[38;5;124m'\u001b[39m]\u001b[38;5;241m.\u001b[39mdraw(\n\u001b[1;32m    126\u001b[0m         data, panel_params, coord,\n\u001b[1;32m    127\u001b[0m         ax, constant\u001b[38;5;241m=\u001b[39mconstant, \u001b[38;5;241m*\u001b[39m\u001b[38;5;241m*\u001b[39mparams)\n",
      "File \u001b[0;32m~/miniconda3/lib/python3.9/site-packages/plotnine/geoms/geom_path.py:389\u001b[0m, in \u001b[0;36m_draw_lines\u001b[0;34m(data, ax, **params)\u001b[0m\n\u001b[1;32m    384\u001b[0m \u001b[38;5;28;01mdef\u001b[39;00m \u001b[38;5;21m_draw_lines\u001b[39m(data, ax, \u001b[38;5;241m*\u001b[39m\u001b[38;5;241m*\u001b[39mparams):\n\u001b[1;32m    385\u001b[0m     \u001b[38;5;124;03m\"\"\"\u001b[39;00m\n\u001b[1;32m    386\u001b[0m \u001b[38;5;124;03m    Draw a path with the same characteristics from the\u001b[39;00m\n\u001b[1;32m    387\u001b[0m \u001b[38;5;124;03m    first point to the last point\u001b[39;00m\n\u001b[1;32m    388\u001b[0m \u001b[38;5;124;03m    \"\"\"\u001b[39;00m\n\u001b[0;32m--> 389\u001b[0m     color \u001b[38;5;241m=\u001b[39m \u001b[43mto_rgba\u001b[49m\u001b[43m(\u001b[49m\u001b[43mdata\u001b[49m\u001b[43m[\u001b[49m\u001b[38;5;124;43m'\u001b[39;49m\u001b[38;5;124;43mcolor\u001b[39;49m\u001b[38;5;124;43m'\u001b[39;49m\u001b[43m]\u001b[49m\u001b[38;5;241;43m.\u001b[39;49m\u001b[43miloc\u001b[49m\u001b[43m[\u001b[49m\u001b[38;5;241;43m0\u001b[39;49m\u001b[43m]\u001b[49m\u001b[43m,\u001b[49m\u001b[43m \u001b[49m\u001b[43mdata\u001b[49m\u001b[43m[\u001b[49m\u001b[38;5;124;43m'\u001b[39;49m\u001b[38;5;124;43malpha\u001b[39;49m\u001b[38;5;124;43m'\u001b[39;49m\u001b[43m]\u001b[49m\u001b[38;5;241;43m.\u001b[39;49m\u001b[43miloc\u001b[49m\u001b[43m[\u001b[49m\u001b[38;5;241;43m0\u001b[39;49m\u001b[43m]\u001b[49m\u001b[43m)\u001b[49m\n\u001b[1;32m    390\u001b[0m     join_style \u001b[38;5;241m=\u001b[39m _get_joinstyle(data, params)\n\u001b[1;32m    391\u001b[0m     lines \u001b[38;5;241m=\u001b[39m mlines\u001b[38;5;241m.\u001b[39mLine2D(\n\u001b[1;32m    392\u001b[0m         data[\u001b[38;5;124m'\u001b[39m\u001b[38;5;124mx\u001b[39m\u001b[38;5;124m'\u001b[39m],\n\u001b[1;32m    393\u001b[0m         data[\u001b[38;5;124m'\u001b[39m\u001b[38;5;124my\u001b[39m\u001b[38;5;124m'\u001b[39m],\n\u001b[0;32m   (...)\u001b[0m\n\u001b[1;32m    399\u001b[0m         \u001b[38;5;241m*\u001b[39m\u001b[38;5;241m*\u001b[39mjoin_style\n\u001b[1;32m    400\u001b[0m     )\n",
      "File \u001b[0;32m~/miniconda3/lib/python3.9/site-packages/plotnine/utils.py:603\u001b[0m, in \u001b[0;36mto_rgba\u001b[0;34m(colors, alpha)\u001b[0m\n\u001b[1;32m    601\u001b[0m     \u001b[38;5;28;01mreturn\u001b[39;00m [to_rgba_hex(colors, a) \u001b[38;5;28;01mfor\u001b[39;00m a \u001b[38;5;129;01min\u001b[39;00m alpha]\n\u001b[1;32m    602\u001b[0m \u001b[38;5;28;01melse\u001b[39;00m:\n\u001b[0;32m--> 603\u001b[0m     \u001b[38;5;28;01mreturn\u001b[39;00m \u001b[43mto_rgba_hex\u001b[49m\u001b[43m(\u001b[49m\u001b[43mcolors\u001b[49m\u001b[43m,\u001b[49m\u001b[43m \u001b[49m\u001b[43malpha\u001b[49m\u001b[43m)\u001b[49m\n",
      "File \u001b[0;32m~/miniconda3/lib/python3.9/site-packages/plotnine/utils.py:581\u001b[0m, in \u001b[0;36mto_rgba.<locals>.to_rgba_hex\u001b[0;34m(c, a)\u001b[0m\n\u001b[1;32m    574\u001b[0m \u001b[38;5;124;03m\"\"\"\u001b[39;00m\n\u001b[1;32m    575\u001b[0m \u001b[38;5;124;03mConver rgb color to rgba hex value\u001b[39;00m\n\u001b[1;32m    576\u001b[0m \n\u001b[1;32m    577\u001b[0m \u001b[38;5;124;03mIf color c has an alpha channel, then alpha value\u001b[39;00m\n\u001b[1;32m    578\u001b[0m \u001b[38;5;124;03ma is ignored\u001b[39;00m\n\u001b[1;32m    579\u001b[0m \u001b[38;5;124;03m\"\"\"\u001b[39;00m\n\u001b[1;32m    580\u001b[0m _has_alpha \u001b[38;5;241m=\u001b[39m has_alpha(c)\n\u001b[0;32m--> 581\u001b[0m c \u001b[38;5;241m=\u001b[39m \u001b[43mmcolors\u001b[49m\u001b[38;5;241;43m.\u001b[39;49m\u001b[43mto_hex\u001b[49m\u001b[43m(\u001b[49m\u001b[43mc\u001b[49m\u001b[43m,\u001b[49m\u001b[43m \u001b[49m\u001b[43mkeep_alpha\u001b[49m\u001b[38;5;241;43m=\u001b[39;49m\u001b[43m_has_alpha\u001b[49m\u001b[43m)\u001b[49m\n\u001b[1;32m    583\u001b[0m \u001b[38;5;28;01mif\u001b[39;00m \u001b[38;5;129;01mnot\u001b[39;00m _has_alpha:\n\u001b[1;32m    584\u001b[0m     arr \u001b[38;5;241m=\u001b[39m colorConverter\u001b[38;5;241m.\u001b[39mto_rgba(c, a)\n",
      "File \u001b[0;32m~/miniconda3/lib/python3.9/site-packages/matplotlib/colors.py:405\u001b[0m, in \u001b[0;36mto_hex\u001b[0;34m(c, keep_alpha)\u001b[0m\n\u001b[1;32m    389\u001b[0m \u001b[38;5;28;01mdef\u001b[39;00m \u001b[38;5;21mto_hex\u001b[39m(c, keep_alpha\u001b[38;5;241m=\u001b[39m\u001b[38;5;28;01mFalse\u001b[39;00m):\n\u001b[1;32m    390\u001b[0m     \u001b[38;5;124;03m\"\"\"\u001b[39;00m\n\u001b[1;32m    391\u001b[0m \u001b[38;5;124;03m    Convert *c* to a hex color.\u001b[39;00m\n\u001b[1;32m    392\u001b[0m \n\u001b[0;32m   (...)\u001b[0m\n\u001b[1;32m    403\u001b[0m \u001b[38;5;124;03m      ``#rrggbb`` or ``#rrggbbaa`` hex color string\u001b[39;00m\n\u001b[1;32m    404\u001b[0m \u001b[38;5;124;03m    \"\"\"\u001b[39;00m\n\u001b[0;32m--> 405\u001b[0m     c \u001b[38;5;241m=\u001b[39m \u001b[43mto_rgba\u001b[49m\u001b[43m(\u001b[49m\u001b[43mc\u001b[49m\u001b[43m)\u001b[49m\n\u001b[1;32m    406\u001b[0m     \u001b[38;5;28;01mif\u001b[39;00m \u001b[38;5;129;01mnot\u001b[39;00m keep_alpha:\n\u001b[1;32m    407\u001b[0m         c \u001b[38;5;241m=\u001b[39m c[:\u001b[38;5;241m3\u001b[39m]\n",
      "File \u001b[0;32m~/miniconda3/lib/python3.9/site-packages/matplotlib/colors.py:187\u001b[0m, in \u001b[0;36mto_rgba\u001b[0;34m(c, alpha)\u001b[0m\n\u001b[1;32m    185\u001b[0m     rgba \u001b[38;5;241m=\u001b[39m \u001b[38;5;28;01mNone\u001b[39;00m\n\u001b[1;32m    186\u001b[0m \u001b[38;5;28;01mif\u001b[39;00m rgba \u001b[38;5;129;01mis\u001b[39;00m \u001b[38;5;28;01mNone\u001b[39;00m:  \u001b[38;5;66;03m# Suppress exception chaining of cache lookup failure.\u001b[39;00m\n\u001b[0;32m--> 187\u001b[0m     rgba \u001b[38;5;241m=\u001b[39m \u001b[43m_to_rgba_no_colorcycle\u001b[49m\u001b[43m(\u001b[49m\u001b[43mc\u001b[49m\u001b[43m,\u001b[49m\u001b[43m \u001b[49m\u001b[43malpha\u001b[49m\u001b[43m)\u001b[49m\n\u001b[1;32m    188\u001b[0m     \u001b[38;5;28;01mtry\u001b[39;00m:\n\u001b[1;32m    189\u001b[0m         _colors_full_map\u001b[38;5;241m.\u001b[39mcache[c, alpha] \u001b[38;5;241m=\u001b[39m rgba\n",
      "File \u001b[0;32m~/miniconda3/lib/python3.9/site-packages/matplotlib/colors.py:262\u001b[0m, in \u001b[0;36m_to_rgba_no_colorcycle\u001b[0;34m(c, alpha)\u001b[0m\n\u001b[1;32m    258\u001b[0m             \u001b[38;5;28;01mraise\u001b[39;00m \u001b[38;5;167;01mValueError\u001b[39;00m(\n\u001b[1;32m    259\u001b[0m                 \u001b[38;5;124mf\u001b[39m\u001b[38;5;124m\"\u001b[39m\u001b[38;5;124mInvalid string grayscale value \u001b[39m\u001b[38;5;132;01m{\u001b[39;00morig_c\u001b[38;5;132;01m!r}\u001b[39;00m\u001b[38;5;124m. \u001b[39m\u001b[38;5;124m\"\u001b[39m\n\u001b[1;32m    260\u001b[0m                 \u001b[38;5;124mf\u001b[39m\u001b[38;5;124m\"\u001b[39m\u001b[38;5;124mValue must be within 0-1 range\u001b[39m\u001b[38;5;124m\"\u001b[39m)\n\u001b[1;32m    261\u001b[0m         \u001b[38;5;28;01mreturn\u001b[39;00m c, c, c, alpha \u001b[38;5;28;01mif\u001b[39;00m alpha \u001b[38;5;129;01mis\u001b[39;00m \u001b[38;5;129;01mnot\u001b[39;00m \u001b[38;5;28;01mNone\u001b[39;00m \u001b[38;5;28;01melse\u001b[39;00m \u001b[38;5;241m1.\u001b[39m\n\u001b[0;32m--> 262\u001b[0m     \u001b[38;5;28;01mraise\u001b[39;00m \u001b[38;5;167;01mValueError\u001b[39;00m(\u001b[38;5;124mf\u001b[39m\u001b[38;5;124m\"\u001b[39m\u001b[38;5;124mInvalid RGBA argument: \u001b[39m\u001b[38;5;132;01m{\u001b[39;00morig_c\u001b[38;5;132;01m!r}\u001b[39;00m\u001b[38;5;124m\"\u001b[39m)\n\u001b[1;32m    263\u001b[0m \u001b[38;5;66;03m# turn 2-D array into 1-D array\u001b[39;00m\n\u001b[1;32m    264\u001b[0m \u001b[38;5;28;01mif\u001b[39;00m \u001b[38;5;28misinstance\u001b[39m(c, np\u001b[38;5;241m.\u001b[39mndarray):\n",
      "\u001b[0;31mValueError\u001b[0m: Invalid RGBA argument: 'test'"
     ]
    }
   ],
   "source": [
    "(\n",
    "    ggplot(fc)  # What data to use\n",
    "    + aes(x= fc.index ,y='mean')  # What variable to use\n",
    "    + geom_line(color=\"test\")  # Geometric object to use for drawing\n",
    "    + geom_line(data=train,mapping=aes(x='ds', y='y') )\n",
    ")"
   ]
  },
  {
   "cell_type": "code",
   "execution_count": 19,
   "id": "754b5825-82b2-46e2-8c2a-89537e6e8c32",
   "metadata": {},
   "outputs": [
    {
     "data": {
      "text/plain": [
       "\u001b[0;31mInit signature:\u001b[0m \u001b[0mgeom_line\u001b[0m\u001b[0;34m(\u001b[0m\u001b[0mmapping\u001b[0m\u001b[0;34m=\u001b[0m\u001b[0;32mNone\u001b[0m\u001b[0;34m,\u001b[0m \u001b[0mdata\u001b[0m\u001b[0;34m=\u001b[0m\u001b[0;32mNone\u001b[0m\u001b[0;34m,\u001b[0m \u001b[0;34m**\u001b[0m\u001b[0mkwargs\u001b[0m\u001b[0;34m)\u001b[0m\u001b[0;34m\u001b[0m\u001b[0;34m\u001b[0m\u001b[0m\n",
       "\u001b[0;31mDocstring:\u001b[0m     \n",
       "Connected points\n",
       "\n",
       "\n",
       ".. rubric:: Usage\n",
       "\n",
       "::\n",
       "\n",
       "    geom_line(mapping=None, data=None, stat='identity', position='identity',\n",
       "              na_rm=False, inherit_aes=True, show_legend=None, raster=False,\n",
       "              arrow=None, lineend='butt', linejoin='round', **kwargs)\n",
       "\n",
       "Only the ``mapping`` and ``data`` can be positional, the rest must\n",
       "be keyword arguments. ``**kwargs`` can be aesthetics (or parameters)\n",
       "used by the ``stat``.\n",
       "\n",
       "\n",
       "Parameters\n",
       "----------\n",
       "mapping : aes, optional\n",
       "    Aesthetic mappings created with :meth:`~plotnine.aes`. If specified and :py:`inherit.aes=True`, it is combined with the default mapping for the plot. You must supply mapping if there is no plot mapping.\n",
       "    \n",
       "    ========= =========\n",
       "    Aesthetic Default value\n",
       "    ========= =========\n",
       "    **x**     \n",
       "    **y**     \n",
       "    alpha     :py:`1`\n",
       "    color     :py:`'black'`\n",
       "    group     \n",
       "    linetype  :py:`'solid'`\n",
       "    size      :py:`0.5`\n",
       "    ========= =========\n",
       "\n",
       "    The **bold** aesthetics are required.\n",
       "\n",
       "data : dataframe, optional\n",
       "    The data to be displayed in this layer. If :py:`None`, the data from from the :py:`ggplot()` call is used. If specified, it overrides the data from the :py:`ggplot()` call.\n",
       "stat : str or stat, optional (default: ~plotnine.stats.stat_identity)\n",
       "    The statistical transformation to use on the data for this layer. If it is a string, it must be the registered and known to Plotnine.\n",
       "position : str or position, optional (default: ~plotnine.positions.position_identity)\n",
       "    Position adjustment. If it is a string, it must be registered and known to Plotnine.\n",
       "na_rm : bool, optional (default: False)\n",
       "    If :py:`False`, removes missing values with a warning. If :py:`True` silently removes missing values.\n",
       "inherit_aes : bool, optional (default: True)\n",
       "    If :py:`False`, overrides the default aesthetics.\n",
       "show_legend : bool or dict, optional (default: None)\n",
       "    Whether this layer should be included in the legends. :py:`None` the default, includes any aesthetics that are mapped. If a :class:`bool`, :py:`False` never includes and :py:`True` always includes. A :class:`dict` can be used to *exclude* specific aesthetis of the layer from showing in the legend. e.g :py:`show_legend={'color': False}`, any other aesthetic are included by default.\n",
       "raster : bool, optional (default: False)\n",
       "    If ``True``, draw onto this layer a raster (bitmap) object even ifthe final image is in vector format.\n",
       "\n",
       "\n",
       "See Also\n",
       "--------\n",
       "plotnine.geoms.geom_path : For documentation of other parameters.\n",
       "\u001b[0;31mFile:\u001b[0m           ~/miniconda3/lib/python3.9/site-packages/plotnine/geoms/geom_line.py\n",
       "\u001b[0;31mType:\u001b[0m           Registry\n",
       "\u001b[0;31mSubclasses:\u001b[0m     \n"
      ]
     },
     "metadata": {},
     "output_type": "display_data"
    }
   ],
   "source": [
    "?geom_line"
   ]
  },
  {
   "cell_type": "code",
   "execution_count": 40,
   "id": "ea79cb93-3def-482f-bb43-088e0b182eeb",
   "metadata": {},
   "outputs": [
    {
     "data": {
      "text/plain": [
       "\u001b[0;31mInit signature:\u001b[0m \u001b[0mgeom_line\u001b[0m\u001b[0;34m(\u001b[0m\u001b[0mmapping\u001b[0m\u001b[0;34m=\u001b[0m\u001b[0;32mNone\u001b[0m\u001b[0;34m,\u001b[0m \u001b[0mdata\u001b[0m\u001b[0;34m=\u001b[0m\u001b[0;32mNone\u001b[0m\u001b[0;34m,\u001b[0m \u001b[0;34m**\u001b[0m\u001b[0mkwargs\u001b[0m\u001b[0;34m)\u001b[0m\u001b[0;34m\u001b[0m\u001b[0;34m\u001b[0m\u001b[0m\n",
       "\u001b[0;31mDocstring:\u001b[0m     \n",
       "Connected points\n",
       "\n",
       "\n",
       ".. rubric:: Usage\n",
       "\n",
       "::\n",
       "\n",
       "    geom_line(mapping=None, data=None, stat='identity', position='identity',\n",
       "              na_rm=False, inherit_aes=True, show_legend=None, raster=False,\n",
       "              linejoin='round', lineend='butt', arrow=None, **kwargs)\n",
       "\n",
       "Only the ``mapping`` and ``data`` can be positional, the rest must\n",
       "be keyword arguments. ``**kwargs`` can be aesthetics (or parameters)\n",
       "used by the ``stat``.\n",
       "\n",
       "\n",
       "Parameters\n",
       "----------\n",
       "mapping : aes, optional\n",
       "    Aesthetic mappings created with :meth:`~plotnine.aes`. If specified and :py:`inherit.aes=True`, it is combined with the default mapping for the plot. You must supply mapping if there is no plot mapping.\n",
       "    \n",
       "    ========= =========\n",
       "    Aesthetic Default value\n",
       "    ========= =========\n",
       "    **x**     \n",
       "    **y**     \n",
       "    alpha     :py:`1`\n",
       "    color     :py:`'black'`\n",
       "    group     \n",
       "    linetype  :py:`'solid'`\n",
       "    size      :py:`0.5`\n",
       "    ========= =========\n",
       "\n",
       "    The **bold** aesthetics are required.\n",
       "\n",
       "data : dataframe, optional\n",
       "    The data to be displayed in this layer. If :py:`None`, the data from from the :py:`ggplot()` call is used. If specified, it overrides the data from the :py:`ggplot()` call.\n",
       "stat : str or stat, optional (default: ~plotnine.stats.stat_identity)\n",
       "    The statistical transformation to use on the data for this layer. If it is a string, it must be the registered and known to Plotnine.\n",
       "position : str or position, optional (default: ~plotnine.positions.position_identity)\n",
       "    Position adjustment. If it is a string, it must be registered and known to Plotnine.\n",
       "na_rm : bool, optional (default: False)\n",
       "    If :py:`False`, removes missing values with a warning. If :py:`True` silently removes missing values.\n",
       "inherit_aes : bool, optional (default: True)\n",
       "    If :py:`False`, overrides the default aesthetics.\n",
       "show_legend : bool or dict, optional (default: None)\n",
       "    Whether this layer should be included in the legends. :py:`None` the default, includes any aesthetics that are mapped. If a :class:`bool`, :py:`False` never includes and :py:`True` always includes. A :class:`dict` can be used to *exclude* specific aesthetis of the layer from showing in the legend. e.g :py:`show_legend={'color': False}`, any other aesthetic are included by default.\n",
       "raster : bool, optional (default: False)\n",
       "    If ``True``, draw onto this layer a raster (bitmap) object even ifthe final image is in vector format.\n",
       "\n",
       "\n",
       "See Also\n",
       "--------\n",
       "plotnine.geoms.geom_path : For documentation of other parameters.\n",
       "\u001b[0;31mFile:\u001b[0m           ~/miniconda3/lib/python3.9/site-packages/plotnine/geoms/geom_line.py\n",
       "\u001b[0;31mType:\u001b[0m           Registry\n",
       "\u001b[0;31mSubclasses:\u001b[0m     \n"
      ]
     },
     "metadata": {},
     "output_type": "display_data"
    }
   ],
   "source": [
    "?geom_line\n"
   ]
  }
 ],
 "metadata": {
  "kernelspec": {
   "display_name": "Python 3 (ipykernel)",
   "language": "python",
   "name": "python3"
  },
  "language_info": {
   "codemirror_mode": {
    "name": "ipython",
    "version": 3
   },
   "file_extension": ".py",
   "mimetype": "text/x-python",
   "name": "python",
   "nbconvert_exporter": "python",
   "pygments_lexer": "ipython3",
   "version": "3.9.7"
  }
 },
 "nbformat": 4,
 "nbformat_minor": 5
}
